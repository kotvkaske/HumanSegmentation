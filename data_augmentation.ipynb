{
 "cells": [
  {
   "cell_type": "code",
   "execution_count": 1,
   "id": "21314050",
   "metadata": {},
   "outputs": [],
   "source": [
    "import albumentations as A\n",
    "import torchvision.transforms as tt\n",
    "from PIL import Image\n",
    "import cv2\n",
    "import os\n",
    "from pathlib import Path"
   ]
  },
  {
   "cell_type": "code",
   "execution_count": 2,
   "id": "3269ee7d",
   "metadata": {},
   "outputs": [],
   "source": [
    "transform = A.Compose([A.Resize(width=240,height=320),\n",
    "    A.RandomCrop(width=240, height=320),\n",
    "    A.HorizontalFlip(p=0.5),\n",
    "    A.RandomBrightnessContrast(p=0.9,brightness_limit = 0.15),A.GaussNoise(p=0.8),\n",
    "A.Rotate(limit=25,p=1)])"
   ]
  },
  {
   "cell_type": "code",
   "execution_count": 3,
   "id": "f1ee9f2b",
   "metadata": {},
   "outputs": [],
   "source": [
    "def getImagePaths(path,str_format = True):\n",
    "    image_names = []\n",
    "    for dirname, _, filenames in os.walk(path):\n",
    "        for filename in filenames:\n",
    "            fullpath = os.path.join(dirname, filename)\n",
    "            image_names.append(fullpath)\n",
    "    if str_format:\n",
    "        return image_names\n",
    "    else:\n",
    "        return [Path(i) for i in image_names]"
   ]
  },
  {
   "cell_type": "code",
   "execution_count": 4,
   "id": "5b66d8df",
   "metadata": {},
   "outputs": [],
   "source": [
    "def image_augmentation(img,mask,trf): \n",
    "    transformed = trf(image=img, mask=mask)\n",
    "    transformed_image = transformed['image']\n",
    "    transformed_mask = transformed['mask']\n",
    "    \n",
    "    return transformed_image, transformed_mask"
   ]
  },
  {
   "cell_type": "code",
   "execution_count": 5,
   "id": "06d7cd5f",
   "metadata": {},
   "outputs": [],
   "source": [
    "def full_augm(default_path,default_mask_path,path_to_save,path_to_save_mask,num_augs):\n",
    "    try:\n",
    "        os.makedirs(path_to_save)\n",
    "        os.makedirs(path_to_save_mask)\n",
    "    except:\n",
    "        pass\n",
    "    vice_transformation = tt.ToPILImage()\n",
    "    pics = getImagePaths(default_path,str_format=False)\n",
    "    masks = getImagePaths(default_mask_path,str_format=False)\n",
    "    for pic_path,mask_path in zip(pics,masks):\n",
    "        pic_num = pic_path.name.split('.')[0]\n",
    "        image = cv2.imread(str(pic_path))\n",
    "        mask = cv2.imread(str(mask_path))\n",
    "        for j in range(num_augs):\n",
    "            tr_img,tr_m = image_augmentation(image,mask,transform)\n",
    "            tr_m = tr_m[:,:,0]\n",
    "            #tr_m = cv2.cvtColor(tr_m, cv2.COLOR_GR)\n",
    "            tr_img = cv2.cvtColor(tr_img, cv2.COLOR_BGR2RGB)\n",
    "            tr_img = Image.fromarray(tr_img)\n",
    "            tr_m = Image.fromarray(tr_m)\n",
    "            \n",
    "            tr_img.save(path_to_save+'/'+str(pic_num)+'_'+str(j)+'.jpg')\n",
    "            tr_m.save(path_to_save_mask+'/'+str(pic_num)+'_'+str(j)+'.jpg')\n",
    "    \n",
    "    "
   ]
  },
  {
   "cell_type": "code",
   "execution_count": 6,
   "id": "94b5da8f",
   "metadata": {},
   "outputs": [],
   "source": [
    "full_augm('data/train/','data/train_mask/','data/augm_tr','data/augm_tr_mask',3)"
   ]
  },
  {
   "cell_type": "code",
   "execution_count": 7,
   "id": "03cd8202",
   "metadata": {},
   "outputs": [],
   "source": [
    "full_augm('../MINDSET/human_dataset/data/Training_Images/','../MINDSET/human_dataset/data/Ground_Truth/','data/augm_extra_tr',\n",
    "         'data/augm_extra_tr_mask',3)"
   ]
  }
 ],
 "metadata": {
  "kernelspec": {
   "display_name": "Python 3 (ipykernel)",
   "language": "python",
   "name": "python3"
  },
  "language_info": {
   "codemirror_mode": {
    "name": "ipython",
    "version": 3
   },
   "file_extension": ".py",
   "mimetype": "text/x-python",
   "name": "python",
   "nbconvert_exporter": "python",
   "pygments_lexer": "ipython3",
   "version": "3.7.11"
  }
 },
 "nbformat": 4,
 "nbformat_minor": 5
}
